{
 "cells": [
  {
   "cell_type": "code",
   "execution_count": 4,
   "metadata": {},
   "outputs": [],
   "source": [
    "# Import required libraries for the Lookalike Model\n",
    "import pandas as pd\n",
    "import numpy as np\n",
    "from sklearn.metrics.pairwise import cosine_similarity\n",
    "from sklearn.preprocessing import StandardScaler\n"
   ]
  },
  {
   "cell_type": "code",
   "execution_count": 7,
   "metadata": {},
   "outputs": [],
   "source": [
    "# Load the transactions data\n",
    "transactions = pd.read_csv('transactions.csv')  # Adjust file path if necessary\n",
    "# Customer-product matrix\n",
    "customer_product_matrix = pd.pivot_table(\n",
    "    transactions, index='CustomerID', columns='ProductID', values='Quantity', fill_value=0\n",
    ")\n"
   ]
  },
  {
   "cell_type": "code",
   "execution_count": 8,
   "metadata": {},
   "outputs": [],
   "source": [
    "# Normalize the matrix\n",
    "scaler = StandardScaler()\n",
    "scaled_matrix = scaler.fit_transform(customer_product_matrix)"
   ]
  },
  {
   "cell_type": "code",
   "execution_count": 9,
   "metadata": {},
   "outputs": [],
   "source": [
    "\n",
    "# Cosine similarity\n",
    "cosine_sim = cosine_similarity(scaled_matrix)"
   ]
  },
  {
   "cell_type": "code",
   "execution_count": 11,
   "metadata": {},
   "outputs": [],
   "source": [
    "# Generate recommendations for the first 20 customers\n",
    "recommendations = {}\n",
    "customer_ids = customer_product_matrix.index[:20]\n",
    "\n",
    "for idx, customer_id in enumerate(customer_ids):\n",
    "    similar_customers = sorted(\n",
    "        list(enumerate(cosine_sim[idx])), key=lambda x: x[1], reverse=True\n",
    "    )[1:4]  # Exclude self\n",
    "    recommendations[customer_id] = [\n",
    "        (customer_product_matrix.index[sim[0]], sim[1]) for sim in similar_customers\n",
    "    ]\n",
    "    \n",
    "    # Save recommendations to CSV\n",
    "lookalike_df = pd.DataFrame.from_dict(recommendations, orient='index', columns=['Similar1', 'Similar2', 'Similar3'])\n",
    "lookalike_df.to_csv('Ayush_Chitransh_Lookalike.csv', index_label='CustomerID')"
   ]
  }
 ],
 "metadata": {
  "kernelspec": {
   "display_name": "Python 3",
   "language": "python",
   "name": "python3"
  },
  "language_info": {
   "codemirror_mode": {
    "name": "ipython",
    "version": 3
   },
   "file_extension": ".py",
   "mimetype": "text/x-python",
   "name": "python",
   "nbconvert_exporter": "python",
   "pygments_lexer": "ipython3",
   "version": "3.11.9"
  }
 },
 "nbformat": 4,
 "nbformat_minor": 2
}
